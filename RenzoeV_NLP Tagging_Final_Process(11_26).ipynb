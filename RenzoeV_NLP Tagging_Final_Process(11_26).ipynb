{
 "cells": [
  {
   "cell_type": "code",
   "execution_count": 1,
   "metadata": {
    "colab": {
     "base_uri": "https://localhost:8080/"
    },
    "executionInfo": {
     "elapsed": 23203,
     "status": "ok",
     "timestamp": 1638385635402,
     "user": {
      "displayName": "Renzoe Box Engineering",
      "photoUrl": "https://lh3.googleusercontent.com/a-/AOh14GgdpToMwOxh1sag4NOd0AHUexJIQS4m1pH_ZvRBTdENSsUk6nf5oZmiMGEu1p_4tTm6pmtHXi2UMzPGBBaMD-Qv5i1P73OUzqZsL0r9HHf-mmr0e5Q6coezyB1XlsIgc0p6pUDEqWldlv4sAzfcNPmG06xMRmOSrq-2TncjVjfOd4Sg4zwGw082u6Gsn3g3b9SXKKil5AV8OZkcNqe7y5X4CFHDyCkodLZK8-qTpghrIzwyxzxprAZSEm7bRK1FRBM41zQtEBTRNwAz8kstC2j__paGRndf6CsT5723rM21iXJoW5XqQ3WWjPuONXGoiwnq3TvlzmYQ4Aj4PwoYLfntHT612xDtxGs2Tb27szHqKbBttq-0T2x8TZwz5iA4_hFFJRkUVIYUlDm_qZ_HTxfvQ-uqXBrp4hdl97zzzAb7FGrLyT_3_SOtU0OjUAN47B9zS3ZIRoRh86THUMChGBNuX8DCTA4lgAAbOgYrTtThkPtDKMC9fGhUo-PUQ8MvO359r5U4nCdHbx-frM8NRktGEbJZ-qQ_Ztg0-ToFFiw8q8PG6DJGntoxcabo0BLa9fS9u7O343VceWKm-ZnkRHREsKg7TsFqmYXfos9dlMWZOYQKuS-jyPs-qM3bGJAPvJQilMTwK7SV-3Zv-tjHl68ohmU07cnWJWdh8oz_CEmDz7bqNbkWkQvx8E9ziVVobLDDgO-jiSAz7grzoUUL_0L7cckFyeMYRbzModB7BoiVerxj6S4qTZiYJnk1LZGw1KjFQA=s64",
      "userId": "01950481311101958718"
     },
     "user_tz": 360
    },
    "id": "k_NFXO-gSx2f",
    "outputId": "afde1f82-fd50-4007-b1cd-5ab4cbb8978c"
   },
   "outputs": [],
   "source": [
    "import pandas as pd\n",
    "import pickle\n",
    "import sklearn\n",
    "# from google.colab import drive\n",
    "# drive.mount('/content/drive')"
   ]
  },
  {
   "cell_type": "code",
   "execution_count": 2,
   "metadata": {
    "id": "a-EmRaZnSx2j",
    "scrolled": false
   },
   "outputs": [],
   "source": [
    "# mainpath = 'drive/MyDrive/+Renzoe Box/Administrative/Team Resources/Team Folders/Quhan Peng/NLP process/'\n",
    "# data = pd.read_csv(mainpath + 'testdata_after_sample800.csv')\n",
    "\n",
    "data = pd.read_csv('testdata_after_sample800.csv')"
   ]
  },
  {
   "cell_type": "code",
   "execution_count": 3,
   "metadata": {
    "id": "kwnq-UUvSx2l"
   },
   "outputs": [],
   "source": [
    "# Delete products with keyword 'loose powder'\n",
    "loose_powder = data[data['body (html)'].str.contains('loose powder')]\n",
    "nlpdata = data[~data.isin(loose_powder)]"
   ]
  },
  {
   "cell_type": "code",
   "execution_count": 4,
   "metadata": {
    "colab": {
     "base_uri": "https://localhost:8080/"
    },
    "executionInfo": {
     "elapsed": 1746,
     "status": "ok",
     "timestamp": 1638385638561,
     "user": {
      "displayName": "Renzoe Box Engineering",
      "photoUrl": "https://lh3.googleusercontent.com/a-/AOh14GgdpToMwOxh1sag4NOd0AHUexJIQS4m1pH_ZvRBTdENSsUk6nf5oZmiMGEu1p_4tTm6pmtHXi2UMzPGBBaMD-Qv5i1P73OUzqZsL0r9HHf-mmr0e5Q6coezyB1XlsIgc0p6pUDEqWldlv4sAzfcNPmG06xMRmOSrq-2TncjVjfOd4Sg4zwGw082u6Gsn3g3b9SXKKil5AV8OZkcNqe7y5X4CFHDyCkodLZK8-qTpghrIzwyxzxprAZSEm7bRK1FRBM41zQtEBTRNwAz8kstC2j__paGRndf6CsT5723rM21iXJoW5XqQ3WWjPuONXGoiwnq3TvlzmYQ4Aj4PwoYLfntHT612xDtxGs2Tb27szHqKbBttq-0T2x8TZwz5iA4_hFFJRkUVIYUlDm_qZ_HTxfvQ-uqXBrp4hdl97zzzAb7FGrLyT_3_SOtU0OjUAN47B9zS3ZIRoRh86THUMChGBNuX8DCTA4lgAAbOgYrTtThkPtDKMC9fGhUo-PUQ8MvO359r5U4nCdHbx-frM8NRktGEbJZ-qQ_Ztg0-ToFFiw8q8PG6DJGntoxcabo0BLa9fS9u7O343VceWKm-ZnkRHREsKg7TsFqmYXfos9dlMWZOYQKuS-jyPs-qM3bGJAPvJQilMTwK7SV-3Zv-tjHl68ohmU07cnWJWdh8oz_CEmDz7bqNbkWkQvx8E9ziVVobLDDgO-jiSAz7grzoUUL_0L7cckFyeMYRbzModB7BoiVerxj6S4qTZiYJnk1LZGw1KjFQA=s64",
      "userId": "01950481311101958718"
     },
     "user_tz": 360
    },
    "id": "10u1_qnYSx2m",
    "outputId": "67117384-70ed-4d1b-a8cd-74e5be2dad12"
   },
   "outputs": [
    {
     "name": "stderr",
     "output_type": "stream",
     "text": [
      "[nltk_data] Downloading package stopwords to\n",
      "[nltk_data]     C:\\Users\\DELL\\AppData\\Roaming\\nltk_data...\n",
      "[nltk_data]   Package stopwords is already up-to-date!\n",
      "[nltk_data] Downloading package wordnet to\n",
      "[nltk_data]     C:\\Users\\DELL\\AppData\\Roaming\\nltk_data...\n",
      "[nltk_data]   Package wordnet is already up-to-date!\n",
      "[nltk_data] Downloading package omw-1.4 to\n",
      "[nltk_data]     C:\\Users\\DELL\\AppData\\Roaming\\nltk_data...\n",
      "[nltk_data]   Package omw-1.4 is already up-to-date!\n"
     ]
    }
   ],
   "source": [
    "import nltk\n",
    "import re\n",
    "from nltk.corpus import stopwords\n",
    "nltk.download('stopwords')\n",
    "nltk.download('wordnet')\n",
    "nltk.download('omw-1.4')\n",
    "\n",
    "# set english stopwords\n",
    "stop_words = set(stopwords.words('english'))\n",
    "\n",
    "# Apply basic NLP for one piece of text\n",
    "def clean_text(text):\n",
    "    \n",
    "# Remove \\n\\w\\s, all lower case\n",
    "    text = re.sub(r'[^\\w\\s]', ' ', str(text).lower().strip())\n",
    "    text = text.replace('\\n', ' ')\n",
    "    lst_text = text.split()\n",
    "    \n",
    "    # Remove stopwords\n",
    "    lst_text = [word for word in lst_text if word not in stop_words]\n",
    "    \n",
    "    # Stemming (remove -ing, -ly, ...)\n",
    "    ps = nltk.stem.porter.PorterStemmer()\n",
    "    lst_text = [ps.stem(word) for word in lst_text]\n",
    "    \n",
    "    # Lemmatisation (convert the word into root word)\n",
    "    lem = nltk.stem.wordnet.WordNetLemmatizer()\n",
    "    lst_text = [lem.lemmatize(word) for word in lst_text]\n",
    "    text = \" \".join(lst_text)\n",
    "    \n",
    "    return text\n",
    "\n",
    "# Apply clean_text function the 'text' column for each row in df \n",
    "def NLPCleaning(df):\n",
    "    data = df.copy()\n",
    "    data[\"text\"] = data[\"text\"].apply(clean_text)\n",
    "    return data"
   ]
  },
  {
   "cell_type": "code",
   "execution_count": 5,
   "metadata": {
    "id": "VgfK8g4lSx2n"
   },
   "outputs": [],
   "source": [
    "# Delete na and duplicate\n",
    "nlpdata = nlpdata.dropna(subset=['body (html)'])\n",
    "### Duplicate need to be adjusted based on new web scrapper results\n",
    "nlpdata = nlpdata.drop_duplicates()\n",
    "\n",
    "nlpdata['text'] = nlpdata['handle'] + \" \" + nlpdata['title'] + \" \" + nlpdata['body (html)']\n",
    "# Apply nlp\n",
    "nlpdata = NLPCleaning(nlpdata)"
   ]
  },
  {
   "cell_type": "code",
   "execution_count": 6,
   "metadata": {
    "id": "xgetRS1idUMH"
   },
   "outputs": [],
   "source": [
    "# transfer mlb result from (a, b, c) to \"a, b, c\"\n",
    "\n",
    "def mlb2string(mlbresult):\n",
    "    theresult = []\n",
    "    for i in range(len(mlbresult)):\n",
    "        t = \"\"\n",
    "        for j in range(len(mlbresult[i])):\n",
    "            t = t + mlbresult[i][j] + \", \"\n",
    "        t = t.rstrip(\", \")\n",
    "        theresult.append(t)\n",
    "    \n",
    "    return theresult"
   ]
  },
  {
   "cell_type": "code",
   "execution_count": 7,
   "metadata": {
    "id": "BadHtoKXSx2s"
   },
   "outputs": [],
   "source": [
    "#product type\n",
    "product_type_vectorizer = pickle.load(open('product_type_vectorizer.sav', 'rb'))\n",
    "product_type_finalized_model = pickle.load(open('product_type_finalized_model.sav', 'rb'))\n",
    "\n",
    "#fit trained product type TfidfVectorizer for 'text'\n",
    "vectorised_product_type_documents = product_type_vectorizer.transform(nlpdata['text'])\n",
    "\n",
    "#fit product type final model\n",
    "product_type_predict = product_type_finalized_model.predict(vectorised_product_type_documents)\n",
    "nlpdata['product type'] = product_type_predict"
   ]
  },
  {
   "cell_type": "code",
   "execution_count": 8,
   "metadata": {
    "id": "tVXYV4ypYJaU"
   },
   "outputs": [],
   "source": [
    "#product consistency\n",
    "product_consistency_vectorizer = pickle.load(open('product_consistency_vectorizer.sav', 'rb'))\n",
    "product_consistency_finalized_model = pickle.load(open('product_consistency_finalized_model.sav', 'rb'))\n",
    "\n",
    "#fit trained product type TfidfVectorizer for 'text'\n",
    "vectorised_product_consistency_documents = product_consistency_vectorizer.transform(nlpdata['text'])\n",
    "\n",
    "#fit product type final model\n",
    "product_consistency_predict = product_consistency_finalized_model.predict(vectorised_product_consistency_documents)\n",
    "nlpdata['product consistency'] = product_consistency_predict"
   ]
  },
  {
   "cell_type": "code",
   "execution_count": 9,
   "metadata": {
    "colab": {
     "base_uri": "https://localhost:8080/"
    },
    "executionInfo": {
     "elapsed": 706,
     "status": "ok",
     "timestamp": 1638385662428,
     "user": {
      "displayName": "Renzoe Box Engineering",
      "photoUrl": "https://lh3.googleusercontent.com/a-/AOh14GgdpToMwOxh1sag4NOd0AHUexJIQS4m1pH_ZvRBTdENSsUk6nf5oZmiMGEu1p_4tTm6pmtHXi2UMzPGBBaMD-Qv5i1P73OUzqZsL0r9HHf-mmr0e5Q6coezyB1XlsIgc0p6pUDEqWldlv4sAzfcNPmG06xMRmOSrq-2TncjVjfOd4Sg4zwGw082u6Gsn3g3b9SXKKil5AV8OZkcNqe7y5X4CFHDyCkodLZK8-qTpghrIzwyxzxprAZSEm7bRK1FRBM41zQtEBTRNwAz8kstC2j__paGRndf6CsT5723rM21iXJoW5XqQ3WWjPuONXGoiwnq3TvlzmYQ4Aj4PwoYLfntHT612xDtxGs2Tb27szHqKbBttq-0T2x8TZwz5iA4_hFFJRkUVIYUlDm_qZ_HTxfvQ-uqXBrp4hdl97zzzAb7FGrLyT_3_SOtU0OjUAN47B9zS3ZIRoRh86THUMChGBNuX8DCTA4lgAAbOgYrTtThkPtDKMC9fGhUo-PUQ8MvO359r5U4nCdHbx-frM8NRktGEbJZ-qQ_Ztg0-ToFFiw8q8PG6DJGntoxcabo0BLa9fS9u7O343VceWKm-ZnkRHREsKg7TsFqmYXfos9dlMWZOYQKuS-jyPs-qM3bGJAPvJQilMTwK7SV-3Zv-tjHl68ohmU07cnWJWdh8oz_CEmDz7bqNbkWkQvx8E9ziVVobLDDgO-jiSAz7grzoUUL_0L7cckFyeMYRbzModB7BoiVerxj6S4qTZiYJnk1LZGw1KjFQA=s64",
      "userId": "01950481311101958718"
     },
     "user_tz": 360
    },
    "id": "aBsPUISaJ0Ep",
    "outputId": "6144aa44-1805-4c69-87b6-583b21c50070"
   },
   "outputs": [
    {
     "name": "stderr",
     "output_type": "stream",
     "text": [
      "D:\\Python\\lib\\site-packages\\pandas\\core\\indexing.py:1732: SettingWithCopyWarning: \n",
      "A value is trying to be set on a copy of a slice from a DataFrame\n",
      "\n",
      "See the caveats in the documentation: https://pandas.pydata.org/pandas-docs/stable/user_guide/indexing.html#returning-a-view-versus-a-copy\n",
      "  self._setitem_single_block(indexer, value, name)\n"
     ]
    }
   ],
   "source": [
    "# pod nonpod\n",
    "nlpdata['pod nonpod'] = \"\"\n",
    "\n",
    "for i in range(len(nlpdata)):\n",
    "    if((nlpdata['product consistency'].iloc[i] == 'pencil') | (nlpdata['product consistency'].iloc[i] == 'liquid')):\n",
    "        nlpdata['pod nonpod'].iloc[i] = 'nonpod'\n",
    "  \n",
    "    if((nlpdata['product consistency'].iloc[i] == 'pressed powder') | (nlpdata['product consistency'].iloc[i] == 'cake')):\n",
    "        nlpdata['pod nonpod'].iloc[i] = 'pod'\n",
    "  \n",
    "    elif(nlpdata['product consistency'].iloc[i] == 'cream'):\n",
    "        if(nlpdata['product type'].iloc[i] == 'concealer'):\n",
    "            nlpdata['pod nonpod'].iloc[i] = 'nonpod'\n",
    "        else:\n",
    "            nlpdata['pod nonpod'].iloc[i] = 'pod'\n",
    "    \n",
    "    elif(nlpdata['product consistency'].iloc[i] == 'stick'):\n",
    "        if((nlpdata['product type'].iloc[i] == 'eyeliner') | (nlpdata['product type'].iloc[i] == 'lipstick')):\n",
    "            nlpdata['pod nonpod'].iloc[i] = 'nonpod'\n",
    "\n",
    "        else:\n",
    "            nlpdata['pod nonpod'].iloc[i] = 'pod'\n"
   ]
  },
  {
   "cell_type": "code",
   "execution_count": 10,
   "metadata": {
    "id": "JXLht-RvvszH"
   },
   "outputs": [],
   "source": [
    "# product preference\n",
    "# import models\n",
    "\n",
    "product_preference_vectorizer = pickle.load(open('product_preference_vectorizer.sav', 'rb'))\n",
    "product_preference_mlb = pickle.load(open('product_preference_mlb.sav', 'rb'))\n",
    "product_preference_model = pickle.load(open('product_preference_finalized_model.sav', 'rb'))\n",
    "\n",
    "# fit trained TfidfVectorizer for 'text'\n",
    "vectorised_product_preference_documents = product_preference_vectorizer.transform(nlpdata['text'])\n",
    "# fit product type final model\n",
    "product_preference_predict = product_preference_model.predict(vectorised_product_preference_documents)\n",
    "product_preference_predict = product_preference_mlb.inverse_transform(product_preference_predict)\n",
    "nlpdata['product preference'] = mlb2string(product_preference_predict)"
   ]
  },
  {
   "cell_type": "code",
   "execution_count": 11,
   "metadata": {
    "id": "hKlcGD0jSx2s"
   },
   "outputs": [],
   "source": [
    "# skin concern and converge type\n",
    "# Only apply for product type =  fundation | concealer\n",
    "sc_ct_data = nlpdata[(nlpdata['product type'] == 'foundation') | (nlpdata['product type'] == 'concealer')]"
   ]
  },
  {
   "cell_type": "code",
   "execution_count": 12,
   "metadata": {
    "colab": {
     "base_uri": "https://localhost:8080/"
    },
    "executionInfo": {
     "elapsed": 1328,
     "status": "ok",
     "timestamp": 1638385665458,
     "user": {
      "displayName": "Renzoe Box Engineering",
      "photoUrl": "https://lh3.googleusercontent.com/a-/AOh14GgdpToMwOxh1sag4NOd0AHUexJIQS4m1pH_ZvRBTdENSsUk6nf5oZmiMGEu1p_4tTm6pmtHXi2UMzPGBBaMD-Qv5i1P73OUzqZsL0r9HHf-mmr0e5Q6coezyB1XlsIgc0p6pUDEqWldlv4sAzfcNPmG06xMRmOSrq-2TncjVjfOd4Sg4zwGw082u6Gsn3g3b9SXKKil5AV8OZkcNqe7y5X4CFHDyCkodLZK8-qTpghrIzwyxzxprAZSEm7bRK1FRBM41zQtEBTRNwAz8kstC2j__paGRndf6CsT5723rM21iXJoW5XqQ3WWjPuONXGoiwnq3TvlzmYQ4Aj4PwoYLfntHT612xDtxGs2Tb27szHqKbBttq-0T2x8TZwz5iA4_hFFJRkUVIYUlDm_qZ_HTxfvQ-uqXBrp4hdl97zzzAb7FGrLyT_3_SOtU0OjUAN47B9zS3ZIRoRh86THUMChGBNuX8DCTA4lgAAbOgYrTtThkPtDKMC9fGhUo-PUQ8MvO359r5U4nCdHbx-frM8NRktGEbJZ-qQ_Ztg0-ToFFiw8q8PG6DJGntoxcabo0BLa9fS9u7O343VceWKm-ZnkRHREsKg7TsFqmYXfos9dlMWZOYQKuS-jyPs-qM3bGJAPvJQilMTwK7SV-3Zv-tjHl68ohmU07cnWJWdh8oz_CEmDz7bqNbkWkQvx8E9ziVVobLDDgO-jiSAz7grzoUUL_0L7cckFyeMYRbzModB7BoiVerxj6S4qTZiYJnk1LZGw1KjFQA=s64",
      "userId": "01950481311101958718"
     },
     "user_tz": 360
    },
    "id": "SFh2REiiUreo",
    "outputId": "cabe85d6-bd77-4f26-915e-8ffa03cacb5b"
   },
   "outputs": [
    {
     "name": "stderr",
     "output_type": "stream",
     "text": [
      "C:\\Users\\DELL\\AppData\\Local\\Temp/ipykernel_4252/4270425432.py:11: SettingWithCopyWarning: \n",
      "A value is trying to be set on a copy of a slice from a DataFrame.\n",
      "Try using .loc[row_indexer,col_indexer] = value instead\n",
      "\n",
      "See the caveats in the documentation: https://pandas.pydata.org/pandas-docs/stable/user_guide/indexing.html#returning-a-view-versus-a-copy\n",
      "  sc_ct_data['coverage type'] = coverage_type_predict\n"
     ]
    }
   ],
   "source": [
    "#coverage type\n",
    "#import models\n",
    "coverage_type_finalized_model = pickle.load(open('coverage_type_finalized_model.sav', 'rb'))\n",
    "coverage_type_vectorizer = pickle.load(open('coverage_type_vectorizer.sav', 'rb'))\n",
    "\n",
    "# fit trained TfidfVectorizer for 'text'\n",
    "vectorised_coverage_type_documents = coverage_type_vectorizer.transform(sc_ct_data['text'])\n",
    "\n",
    "# fit product type final model\n",
    "coverage_type_predict = coverage_type_finalized_model.predict(vectorised_coverage_type_documents)\n",
    "sc_ct_data['coverage type'] = coverage_type_predict"
   ]
  },
  {
   "cell_type": "code",
   "execution_count": 13,
   "metadata": {
    "colab": {
     "base_uri": "https://localhost:8080/"
    },
    "executionInfo": {
     "elapsed": 1606,
     "status": "ok",
     "timestamp": 1638385667055,
     "user": {
      "displayName": "Renzoe Box Engineering",
      "photoUrl": "https://lh3.googleusercontent.com/a-/AOh14GgdpToMwOxh1sag4NOd0AHUexJIQS4m1pH_ZvRBTdENSsUk6nf5oZmiMGEu1p_4tTm6pmtHXi2UMzPGBBaMD-Qv5i1P73OUzqZsL0r9HHf-mmr0e5Q6coezyB1XlsIgc0p6pUDEqWldlv4sAzfcNPmG06xMRmOSrq-2TncjVjfOd4Sg4zwGw082u6Gsn3g3b9SXKKil5AV8OZkcNqe7y5X4CFHDyCkodLZK8-qTpghrIzwyxzxprAZSEm7bRK1FRBM41zQtEBTRNwAz8kstC2j__paGRndf6CsT5723rM21iXJoW5XqQ3WWjPuONXGoiwnq3TvlzmYQ4Aj4PwoYLfntHT612xDtxGs2Tb27szHqKbBttq-0T2x8TZwz5iA4_hFFJRkUVIYUlDm_qZ_HTxfvQ-uqXBrp4hdl97zzzAb7FGrLyT_3_SOtU0OjUAN47B9zS3ZIRoRh86THUMChGBNuX8DCTA4lgAAbOgYrTtThkPtDKMC9fGhUo-PUQ8MvO359r5U4nCdHbx-frM8NRktGEbJZ-qQ_Ztg0-ToFFiw8q8PG6DJGntoxcabo0BLa9fS9u7O343VceWKm-ZnkRHREsKg7TsFqmYXfos9dlMWZOYQKuS-jyPs-qM3bGJAPvJQilMTwK7SV-3Zv-tjHl68ohmU07cnWJWdh8oz_CEmDz7bqNbkWkQvx8E9ziVVobLDDgO-jiSAz7grzoUUL_0L7cckFyeMYRbzModB7BoiVerxj6S4qTZiYJnk1LZGw1KjFQA=s64",
      "userId": "01950481311101958718"
     },
     "user_tz": 360
    },
    "id": "0TkwyjdxUrxR",
    "outputId": "c816fd85-08fb-4b6c-cfaf-5a0606abcf8c"
   },
   "outputs": [
    {
     "name": "stderr",
     "output_type": "stream",
     "text": [
      "C:\\Users\\DELL\\AppData\\Local\\Temp/ipykernel_4252/2039948381.py:13: SettingWithCopyWarning: \n",
      "A value is trying to be set on a copy of a slice from a DataFrame.\n",
      "Try using .loc[row_indexer,col_indexer] = value instead\n",
      "\n",
      "See the caveats in the documentation: https://pandas.pydata.org/pandas-docs/stable/user_guide/indexing.html#returning-a-view-versus-a-copy\n",
      "  sc_ct_data['skin concern'] = mlb2string(skin_concern_predict)\n"
     ]
    }
   ],
   "source": [
    "#skin concern\n",
    "#import models\n",
    "skin_concern_vectorizer = pickle.load(open('skin_concern_vectorizer.sav', 'rb'))\n",
    "skin_concern_mlb = pickle.load(open('skin_concern_mlb.sav', 'rb'))\n",
    "skin_concern_model = pickle.load(open('skin_concern_finalized_model.sav', 'rb'))\n",
    "\n",
    "# fit trained TfidfVectorizer for 'text'\n",
    "vectorised_skin_concern_documents = skin_concern_vectorizer.transform(sc_ct_data['text'])\n",
    "\n",
    "# fit product type final model\n",
    "skin_concern_predict = skin_concern_model.predict(vectorised_skin_concern_documents)\n",
    "skin_concern_predict = skin_concern_mlb.inverse_transform(skin_concern_predict)\n",
    "sc_ct_data['skin concern'] = mlb2string(skin_concern_predict)"
   ]
  },
  {
   "cell_type": "code",
   "execution_count": 14,
   "metadata": {
    "id": "s0Xvv3L8Sx2t"
   },
   "outputs": [],
   "source": [
    "nlpdata['skin concern'] = \"\"\n",
    "nlpdata['coverage type'] = \"\"\n",
    "nlpdata.update(sc_ct_data)"
   ]
  },
  {
   "cell_type": "code",
   "execution_count": 15,
   "metadata": {
    "id": "j253OLdVdDT1"
   },
   "outputs": [],
   "source": [
    "# finish\n",
    "# everything except setting powder, eyeliner, mascara, brow powder/gel\n",
    "finish_data = nlpdata[(nlpdata['product type'] != 'setting powder') & (nlpdata['product type'] != 'eyeliner') \n",
    "            & (nlpdata['product type'] != 'mascara') & (nlpdata['product type'] != 'brow')]"
   ]
  },
  {
   "cell_type": "code",
   "execution_count": 16,
   "metadata": {
    "colab": {
     "base_uri": "https://localhost:8080/"
    },
    "executionInfo": {
     "elapsed": 2269,
     "status": "ok",
     "timestamp": 1638385669321,
     "user": {
      "displayName": "Renzoe Box Engineering",
      "photoUrl": "https://lh3.googleusercontent.com/a-/AOh14GgdpToMwOxh1sag4NOd0AHUexJIQS4m1pH_ZvRBTdENSsUk6nf5oZmiMGEu1p_4tTm6pmtHXi2UMzPGBBaMD-Qv5i1P73OUzqZsL0r9HHf-mmr0e5Q6coezyB1XlsIgc0p6pUDEqWldlv4sAzfcNPmG06xMRmOSrq-2TncjVjfOd4Sg4zwGw082u6Gsn3g3b9SXKKil5AV8OZkcNqe7y5X4CFHDyCkodLZK8-qTpghrIzwyxzxprAZSEm7bRK1FRBM41zQtEBTRNwAz8kstC2j__paGRndf6CsT5723rM21iXJoW5XqQ3WWjPuONXGoiwnq3TvlzmYQ4Aj4PwoYLfntHT612xDtxGs2Tb27szHqKbBttq-0T2x8TZwz5iA4_hFFJRkUVIYUlDm_qZ_HTxfvQ-uqXBrp4hdl97zzzAb7FGrLyT_3_SOtU0OjUAN47B9zS3ZIRoRh86THUMChGBNuX8DCTA4lgAAbOgYrTtThkPtDKMC9fGhUo-PUQ8MvO359r5U4nCdHbx-frM8NRktGEbJZ-qQ_Ztg0-ToFFiw8q8PG6DJGntoxcabo0BLa9fS9u7O343VceWKm-ZnkRHREsKg7TsFqmYXfos9dlMWZOYQKuS-jyPs-qM3bGJAPvJQilMTwK7SV-3Zv-tjHl68ohmU07cnWJWdh8oz_CEmDz7bqNbkWkQvx8E9ziVVobLDDgO-jiSAz7grzoUUL_0L7cckFyeMYRbzModB7BoiVerxj6S4qTZiYJnk1LZGw1KjFQA=s64",
      "userId": "01950481311101958718"
     },
     "user_tz": 360
    },
    "id": "H4DMWzx5e22C",
    "outputId": "4ffe822e-574f-41c7-bb54-051aa8920cba"
   },
   "outputs": [
    {
     "name": "stderr",
     "output_type": "stream",
     "text": [
      "C:\\Users\\DELL\\AppData\\Local\\Temp/ipykernel_4252/2410460293.py:11: SettingWithCopyWarning: \n",
      "A value is trying to be set on a copy of a slice from a DataFrame.\n",
      "Try using .loc[row_indexer,col_indexer] = value instead\n",
      "\n",
      "See the caveats in the documentation: https://pandas.pydata.org/pandas-docs/stable/user_guide/indexing.html#returning-a-view-versus-a-copy\n",
      "  finish_data['finish'] = finish_predict\n"
     ]
    }
   ],
   "source": [
    "#finish\n",
    "finish_finalized_model = pickle.load(open('finish_finalized_model.sav', 'rb'))\n",
    "finish_vectorizer = pickle.load(open('finish_vectorizer.sav', 'rb'))\n",
    "\n",
    "# fit trained TfidfVectorizer for 'text'\n",
    "vectorised_finish_documents = finish_vectorizer.transform(finish_data['text'])\n",
    "\n",
    "# fit product type final model\n",
    "finish_predict = finish_finalized_model.predict(vectorised_finish_documents)\n",
    "\n",
    "finish_data['finish'] = finish_predict\n",
    "nlpdata['finish'] = \"\"\n",
    "nlpdata.update(finish_data)"
   ]
  },
  {
   "cell_type": "code",
   "execution_count": 17,
   "metadata": {
    "id": "zcCGQpodQ-LL"
   },
   "outputs": [],
   "source": [
    "nlpdata = nlpdata.drop(columns = 'text')"
   ]
  },
  {
   "cell_type": "code",
   "execution_count": 18,
   "metadata": {
    "id": "EHoRIruFe34U"
   },
   "outputs": [],
   "source": [
    "#output\n",
    "#nlpdata.to_csv('nlpresult.csv')\n",
    "#from google.colab import files\n",
    "#files.download(\"nlpresult.csv\")"
   ]
  },
  {
   "cell_type": "code",
   "execution_count": 19,
   "metadata": {
    "colab": {
     "base_uri": "https://localhost:8080/"
    },
    "executionInfo": {
     "elapsed": 476,
     "status": "ok",
     "timestamp": 1638385669786,
     "user": {
      "displayName": "Renzoe Box Engineering",
      "photoUrl": "https://lh3.googleusercontent.com/a-/AOh14GgdpToMwOxh1sag4NOd0AHUexJIQS4m1pH_ZvRBTdENSsUk6nf5oZmiMGEu1p_4tTm6pmtHXi2UMzPGBBaMD-Qv5i1P73OUzqZsL0r9HHf-mmr0e5Q6coezyB1XlsIgc0p6pUDEqWldlv4sAzfcNPmG06xMRmOSrq-2TncjVjfOd4Sg4zwGw082u6Gsn3g3b9SXKKil5AV8OZkcNqe7y5X4CFHDyCkodLZK8-qTpghrIzwyxzxprAZSEm7bRK1FRBM41zQtEBTRNwAz8kstC2j__paGRndf6CsT5723rM21iXJoW5XqQ3WWjPuONXGoiwnq3TvlzmYQ4Aj4PwoYLfntHT612xDtxGs2Tb27szHqKbBttq-0T2x8TZwz5iA4_hFFJRkUVIYUlDm_qZ_HTxfvQ-uqXBrp4hdl97zzzAb7FGrLyT_3_SOtU0OjUAN47B9zS3ZIRoRh86THUMChGBNuX8DCTA4lgAAbOgYrTtThkPtDKMC9fGhUo-PUQ8MvO359r5U4nCdHbx-frM8NRktGEbJZ-qQ_Ztg0-ToFFiw8q8PG6DJGntoxcabo0BLa9fS9u7O343VceWKm-ZnkRHREsKg7TsFqmYXfos9dlMWZOYQKuS-jyPs-qM3bGJAPvJQilMTwK7SV-3Zv-tjHl68ohmU07cnWJWdh8oz_CEmDz7bqNbkWkQvx8E9ziVVobLDDgO-jiSAz7grzoUUL_0L7cckFyeMYRbzModB7BoiVerxj6S4qTZiYJnk1LZGw1KjFQA=s64",
      "userId": "01950481311101958718"
     },
     "user_tz": 360
    },
    "id": "aB7Qn7UiIwaq",
    "outputId": "bb603156-88a8-4179-b2c4-49062eeb5aa3"
   },
   "outputs": [],
   "source": [
    "# update nlpdata['tags'] \n",
    "nlpdata['tags'] = nlpdata['pod nonpod'] + \", \" + nlpdata['product consistency'] + \", \" + nlpdata['product type'] + \", \" + nlpdata['skin concern'] + \", \" + nlpdata['coverage type'] + \", \" + nlpdata['finish'] + \", \" + nlpdata['product preference']\n",
    "\n",
    "pattern = re.compile(r'(,\\s){2,}')\n",
    "\n",
    "for i in range(len(nlpdata)):\n",
    "    nlpdata['tags'].iloc[i] = re.sub(pattern, ', ', nlpdata['tags'].iloc[i])"
   ]
  },
  {
   "cell_type": "code",
   "execution_count": 24,
   "metadata": {
    "id": "cFLoWGpTGRg5"
   },
   "outputs": [],
   "source": [
    "nlpdata = nlpdata.drop(columns=['Unnamed: 0', 'id', 'renzoe tags', 'id.1', 'unnamed: 0', 'unnamed: 0.1'])#, 'product type', 'product consistency', 'pod nonpod', 'product preference', 'skin concern', 'coverage type', 'finish'])\n",
    "nlpdata = nlpdata.rename(columns = {\"body (html)\": \"body\"})"
   ]
  },
  {
   "cell_type": "code",
   "execution_count": 22,
   "metadata": {
    "id": "JmRyavuVLUun"
   },
   "outputs": [],
   "source": [
    "# Output to shopify\n",
    "# nlpdata.to_csv('nlpresult_2shopify.csv', index=False)"
   ]
  },
  {
   "cell_type": "code",
   "execution_count": 23,
   "metadata": {
    "id": "dJRw__qfGggN"
   },
   "outputs": [],
   "source": [
    "#from google.colab import files\n",
    "#files.download(\"nlpresult_2shopify.csv\")"
   ]
  }
 ],
 "metadata": {
  "colab": {
   "collapsed_sections": [],
   "name": "RenzoeV_NLP Tagging_Final_Process(11/26).ipynb",
   "provenance": []
  },
  "kernelspec": {
   "display_name": "Python 3 (ipykernel)",
   "language": "python",
   "name": "python3"
  },
  "language_info": {
   "codemirror_mode": {
    "name": "ipython",
    "version": 3
   },
   "file_extension": ".py",
   "mimetype": "text/x-python",
   "name": "python",
   "nbconvert_exporter": "python",
   "pygments_lexer": "ipython3",
   "version": "3.9.9"
  },
  "toc": {
   "base_numbering": 1,
   "nav_menu": {},
   "number_sections": true,
   "sideBar": true,
   "skip_h1_title": false,
   "title_cell": "Table of Contents",
   "title_sidebar": "Contents",
   "toc_cell": false,
   "toc_position": {},
   "toc_section_display": true,
   "toc_window_display": false
  }
 },
 "nbformat": 4,
 "nbformat_minor": 1
}
